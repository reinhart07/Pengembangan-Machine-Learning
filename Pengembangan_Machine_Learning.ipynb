{
  "nbformat": 4,
  "nbformat_minor": 0,
  "metadata": {
    "colab": {
      "provenance": []
    },
    "kernelspec": {
      "name": "python3",
      "display_name": "Python 3"
    },
    "language_info": {
      "name": "python"
    }
  },
  "cells": [
    {
      "cell_type": "code",
      "execution_count": 48,
      "metadata": {
        "id": "KxntiHxyRftU"
      },
      "outputs": [],
      "source": [
        "# Import package yang dibutuhkan\n",
        "import pandas as pd\n",
        "import numpy as np\n",
        "import matplotlib.pyplot as plt\n",
        "import seaborn as sns\n",
        "import re\n",
        "import nltk\n",
        "from nltk.corpus import stopwords\n",
        "from nltk.tokenize import word_tokenize\n",
        "import tensorflow as tf\n",
        "from tensorflow.keras.preprocessing.text import Tokenizer\n",
        "from tensorflow.keras.preprocessing.sequence import pad_sequences\n",
        "from tensorflow.keras.models import Sequential\n",
        "from tensorflow.keras.layers import Embedding, LSTM, Dense, Bidirectional, Dropout, Conv1D, GlobalMaxPooling1D, MaxPooling1D\n",
        "from tensorflow.keras.callbacks import EarlyStopping, ModelCheckpoint, ReduceLROnPlateau\n",
        "from sklearn.model_selection import train_test_split\n",
        "from sklearn.metrics import classification_report, confusion_matrix, accuracy_score\n",
        "import warnings\n",
        "warnings.filterwarnings('ignore')"
      ]
    },
    {
      "cell_type": "code",
      "source": [
        "# Download NLTK resources\n",
        "nltk.download('punkt')\n",
        "nltk.download('stopwords')"
      ],
      "metadata": {
        "colab": {
          "base_uri": "https://localhost:8080/"
        },
        "id": "zMI0OAw6W5HC",
        "outputId": "ef02ddc2-cc1c-4cc0-85e5-939328d52277"
      },
      "execution_count": 25,
      "outputs": [
        {
          "output_type": "stream",
          "name": "stderr",
          "text": [
            "[nltk_data] Downloading package punkt to /root/nltk_data...\n",
            "[nltk_data]   Package punkt is already up-to-date!\n",
            "[nltk_data] Downloading package stopwords to /root/nltk_data...\n",
            "[nltk_data]   Package stopwords is already up-to-date!\n"
          ]
        },
        {
          "output_type": "execute_result",
          "data": {
            "text/plain": [
              "True"
            ]
          },
          "metadata": {},
          "execution_count": 25
        }
      ]
    },
    {
      "cell_type": "code",
      "source": [
        "# Set memory growth for GPU (jika menggunakan GPU)\n",
        "try:\n",
        "    gpus = tf.config.experimental.list_physical_devices('GPU')\n",
        "    if gpus:\n",
        "        for gpu in gpus:\n",
        "            tf.config.experimental.set_memory_growth(gpu, True)\n",
        "        print(f\"GPU tersedia: {len(gpus)}\")\n",
        "    else:\n",
        "        print(\"Tidak ada GPU yang terdeteksi, menggunakan CPU\")\n",
        "except Exception as e:\n",
        "    print(f\"Error dalam setup GPU: {e}\")"
      ],
      "metadata": {
        "colab": {
          "base_uri": "https://localhost:8080/"
        },
        "id": "GJybjELJX82i",
        "outputId": "ed86301e-fc61-48d6-b18b-7a21f297ab1e"
      },
      "execution_count": 26,
      "outputs": [
        {
          "output_type": "stream",
          "name": "stdout",
          "text": [
            "Tidak ada GPU yang terdeteksi, menggunakan CPU\n"
          ]
        }
      ]
    },
    {
      "cell_type": "code",
      "source": [
        "\n",
        "# Ganti 'nama_file_anda.csv' dengan nama file CSV Anda\n",
        "df = pd.read_csv('/content/gojek_reviews.csv')"
      ],
      "metadata": {
        "id": "59c71n5_XAr2"
      },
      "execution_count": 27,
      "outputs": []
    },
    {
      "cell_type": "code",
      "source": [
        "# Tampilkan info tentang dataset\n",
        "print(\"\\nInformasi Dataset:\")\n",
        "print(df.info())\n",
        "print(\"\\nContoh data:\")\n",
        "print(df.head())"
      ],
      "metadata": {
        "colab": {
          "base_uri": "https://localhost:8080/"
        },
        "id": "iigmM_1JYBwQ",
        "outputId": "db38e6dd-16d8-4b3e-e4a7-cba63567de78"
      },
      "execution_count": 28,
      "outputs": [
        {
          "output_type": "stream",
          "name": "stdout",
          "text": [
            "\n",
            "Informasi Dataset:\n",
            "<class 'pandas.core.frame.DataFrame'>\n",
            "RangeIndex: 257731 entries, 0 to 257730\n",
            "Data columns (total 11 columns):\n",
            " #   Column                Non-Null Count   Dtype  \n",
            "---  ------                --------------   -----  \n",
            " 0   reviewId              257731 non-null  object \n",
            " 1   userName              257731 non-null  object \n",
            " 2   userImage             257731 non-null  object \n",
            " 3   content               257728 non-null  object \n",
            " 4   score                 257730 non-null  float64\n",
            " 5   thumbsUpCount         257730 non-null  float64\n",
            " 6   reviewCreatedVersion  203762 non-null  object \n",
            " 7   at                    257730 non-null  object \n",
            " 8   replyContent          75851 non-null   object \n",
            " 9   repliedAt             75851 non-null   object \n",
            " 10  appVersion            203762 non-null  object \n",
            "dtypes: float64(2), object(9)\n",
            "memory usage: 21.6+ MB\n",
            "None\n",
            "\n",
            "Contoh data:\n",
            "                               reviewId         userName  \\\n",
            "0  5a957f59-d97b-4ebb-81ba-76cbc950f80a  Pengguna Google   \n",
            "1  468db741-3adc-4129-b2d5-b7e47b18cf17  Pengguna Google   \n",
            "2  0b88dcda-8b2e-4a85-b9e8-00b6f3d6cbaf  Pengguna Google   \n",
            "3  066920d4-3f01-4f8a-9584-e6d1bd2097db  Pengguna Google   \n",
            "4  4d4825c7-7e81-4c5c-ae76-8dfcd6f664de  Pengguna Google   \n",
            "\n",
            "                                           userImage  \\\n",
            "0  https://play-lh.googleusercontent.com/EGemoI2N...   \n",
            "1  https://play-lh.googleusercontent.com/EGemoI2N...   \n",
            "2  https://play-lh.googleusercontent.com/EGemoI2N...   \n",
            "3  https://play-lh.googleusercontent.com/EGemoI2N...   \n",
            "4  https://play-lh.googleusercontent.com/EGemoI2N...   \n",
            "\n",
            "                                             content  score  thumbsUpCount  \\\n",
            "0                                    sangat membantu    5.0            0.0   \n",
            "1  apk payah order makanan tercantum tulisan menu...    1.0            0.0   \n",
            "2                                              bagus    5.0            0.0   \n",
            "3  lama amat d fitur gofood nunggu di masak chef ...    1.0            0.0   \n",
            "4  tolong kalau drivernya gak mau ambil jangan di...    1.0            0.0   \n",
            "\n",
            "  reviewCreatedVersion                   at  \\\n",
            "0               5.14.2  2025-03-27 12:03:34   \n",
            "1               5.13.1  2025-03-27 11:59:55   \n",
            "2               5.14.2  2025-03-27 11:59:47   \n",
            "3               5.14.2  2025-03-27 11:55:30   \n",
            "4               5.14.2  2025-03-27 11:53:53   \n",
            "\n",
            "                                        replyContent            repliedAt  \\\n",
            "0                                                NaN                  NaN   \n",
            "1  Mohon maaf atas kendalanya, Kak Vicky. Kesulit...  2025-03-27 14:08:58   \n",
            "2                                                NaN                  NaN   \n",
            "3  Hai Kak @Molto srb, mohon maaf atas ketidaknya...  2025-03-27 14:06:27   \n",
            "4  Hai Kak Gresela, mohon maaf atas ketidaknyaman...  2025-03-27 14:02:57   \n",
            "\n",
            "  appVersion  \n",
            "0     5.14.2  \n",
            "1     5.13.1  \n",
            "2     5.14.2  \n",
            "3     5.14.2  \n",
            "4     5.14.2  \n"
          ]
        }
      ]
    },
    {
      "cell_type": "code",
      "source": [
        "# Cek distribusi skor\n",
        "print(\"\\nDistribusi skor:\")\n",
        "print(df['score'].value_counts().sort_index())"
      ],
      "metadata": {
        "colab": {
          "base_uri": "https://localhost:8080/"
        },
        "id": "rBtBStAlYEwM",
        "outputId": "8d6a60ff-0cf2-4099-b315-90db980245fd"
      },
      "execution_count": 17,
      "outputs": [
        {
          "output_type": "stream",
          "name": "stdout",
          "text": [
            "\n",
            "Distribusi skor:\n",
            "score\n",
            "1.0     6420\n",
            "2.0      962\n",
            "3.0      881\n",
            "4.0     1262\n",
            "5.0    15053\n",
            "Name: count, dtype: int64\n"
          ]
        }
      ]
    },
    {
      "cell_type": "code",
      "source": [
        "# Fungsi untuk praproses teks\n",
        "def preprocess_text(text):\n",
        "    if isinstance(text, str):\n",
        "        # Lowercase\n",
        "        text = text.lower()\n",
        "        # Hapus URL\n",
        "        text = re.sub(r'http\\S+', '', text)\n",
        "        # Hapus mention dan hashtag\n",
        "        text = re.sub(r'@\\w+|#\\w+', '', text)\n",
        "        # Hapus karakter khusus dan angka\n",
        "        text = re.sub(r'[^\\w\\s]|[\\d]', '', text)\n",
        "        # Hapus whitespace berlebih\n",
        "        text = re.sub(r'\\s+', ' ', text).strip()\n",
        "        return text\n",
        "    return \"\""
      ],
      "metadata": {
        "id": "xda8RKa3YK4F"
      },
      "execution_count": 29,
      "outputs": []
    },
    {
      "cell_type": "code",
      "source": [
        "# Membuat label sentimen berdasarkan skor\n",
        "def create_sentiment_label(score):\n",
        "    if score <= 2:\n",
        "        return 'negatif'\n",
        "    elif score == 3:\n",
        "        return 'netral'\n",
        "    else:  # score >= 4\n",
        "        return 'positif'\n",
        "\n",
        "# Praproses teks\n",
        "print(\"\\nMemulai praproses teks...\")\n",
        "# Gunakan chunk processing untuk dataset besar\n",
        "chunk_size = 50000\n",
        "for i in range(0, len(df), chunk_size):\n",
        "    end = min(i + chunk_size, len(df))\n",
        "    print(f\"  Memproses {i} sampai {end}...\")\n",
        "    df.loc[i:end-1, 'processed_content'] = df.loc[i:end-1, 'content'].apply(preprocess_text)\n"
      ],
      "metadata": {
        "colab": {
          "base_uri": "https://localhost:8080/"
        },
        "id": "YzkuRd0VYSBa",
        "outputId": "8f2343fd-1cd5-43b6-9266-739efd6de257"
      },
      "execution_count": 30,
      "outputs": [
        {
          "output_type": "stream",
          "name": "stdout",
          "text": [
            "\n",
            "Memulai praproses teks...\n",
            "  Memproses 0 sampai 50000...\n",
            "  Memproses 50000 sampai 100000...\n",
            "  Memproses 100000 sampai 150000...\n",
            "  Memproses 150000 sampai 200000...\n",
            "  Memproses 200000 sampai 250000...\n",
            "  Memproses 250000 sampai 257731...\n"
          ]
        }
      ]
    },
    {
      "cell_type": "code",
      "source": [
        "# Membuat label sentimen\n",
        "df['sentiment'] = df['score'].apply(create_sentiment_label)\n",
        "\n",
        "# Konversi label sentimen ke kode\n",
        "sentiment_map = {'negatif': 0, 'netral': 1, 'positif': 2}\n",
        "df['sentiment_code'] = df['sentiment'].map(sentiment_map)"
      ],
      "metadata": {
        "id": "YDJL0SXWYZod"
      },
      "execution_count": 31,
      "outputs": []
    },
    {
      "cell_type": "code",
      "source": [
        "# Visualisasi distribusi sentimen - Tampilkan langsung di Colab\n",
        "plt.figure(figsize=(10, 6))\n",
        "sns.countplot(x='sentiment', data=df.sample(min(len(df), 10000), random_state=42))\n",
        "plt.title('Distribusi Sentimen (Sample)')\n",
        "plt.show()"
      ],
      "metadata": {
        "colab": {
          "base_uri": "https://localhost:8080/",
          "height": 564
        },
        "id": "WifyJzamYccZ",
        "outputId": "9e66d4b1-b595-45f1-ba5b-48301f1dfeb0"
      },
      "execution_count": 32,
      "outputs": [
        {
          "output_type": "display_data",
          "data": {
            "text/plain": [
              "<Figure size 1000x600 with 1 Axes>"
            ],
            "image/png": "[encoded data removed]"
          },
          "metadata": {}
        }
      ]
    },
    {
      "cell_type": "code",
      "source": [
        "# Visualisasi distribusi skor - Tampilkan langsung di Colab\n",
        "plt.figure(figsize=(10, 6))\n",
        "sns.countplot(x='score', data=df.sample(min(len(df), 10000), random_state=42))\n",
        "plt.title('Distribusi Skor (Sample)')\n",
        "plt.show()  # Langsung tampilkan di Colab\n",
        "\n",
        "print(\"\\nPraproses data selesai\")"
      ],
      "metadata": {
        "colab": {
          "base_uri": "https://localhost:8080/",
          "height": 599
        },
        "id": "BR68d0g_ZxwU",
        "outputId": "b1309393-d8fd-429c-c359-6ed81df0b083"
      },
      "execution_count": 33,
      "outputs": [
        {
          "output_type": "display_data",
          "data": {
            "text/plain": [
              "<Figure size 1000x600 with 1 Axes>"
            ],
            "image/png": "[encoded data removed]"
          },
          "metadata": {}
        },
        {
          "output_type": "stream",
          "name": "stdout",
          "text": [
            "\n",
            "Praproses data selesai\n"
          ]
        }
      ]
    },
    {
      "cell_type": "code",
      "source": [
        "# Cek distribusi panjang teks\n",
        "text_lengths = df['processed_content'].str.len()\n",
        "print(f\"\\nStatistik panjang teks:\")\n",
        "print(f\"  Min: {text_lengths.min()}\")\n",
        "print(f\"  Mean: {text_lengths.mean():.2f}\")\n",
        "print(f\"  Median: {text_lengths.median()}\")\n",
        "print(f\"  95 percentile: {text_lengths.quantile(0.95)}\")\n",
        "print(f\"  Max: {text_lengths.max()}\")\n",
        "\n",
        "# Tentukan max_length berdasarkan persentil ke-95 atau nilai tetap\n",
        "max_length = min(int(text_lengths.quantile(0.95)), 100)\n",
        "print(f\"Menggunakan max_length = {max_length} untuk padding\")"
      ],
      "metadata": {
        "colab": {
          "base_uri": "https://localhost:8080/"
        },
        "id": "9jYDpLthZzVO",
        "outputId": "04ec3985-c427-48f4-be5f-9d25fda6aabd"
      },
      "execution_count": 34,
      "outputs": [
        {
          "output_type": "stream",
          "name": "stdout",
          "text": [
            "\n",
            "Statistik panjang teks:\n",
            "  Min: 0\n",
            "  Mean: 54.11\n",
            "  Median: 23.0\n",
            "  95 percentile: 215.0\n",
            "  Max: 645\n",
            "Menggunakan max_length = 100 untuk padding\n"
          ]
        }
      ]
    },
    {
      "cell_type": "code",
      "source": [
        "# Ambil fitur dan target\n",
        "X = df['processed_content']\n",
        "y = df['sentiment_code']\n"
      ],
      "metadata": {
        "id": "ma6U8yWJaLal"
      },
      "execution_count": 38,
      "outputs": []
    },
    {
      "cell_type": "code",
      "source": [
        "# Membagi data menjadi training dan testing set\n",
        "X_train, X_test, y_train, y_test = train_test_split(\n",
        "    X, y, test_size=0.2, random_state=42, stratify=y\n",
        ")\n",
        "\n",
        "print(f\"\\nUkuran data training: {len(X_train)} sampel\")\n",
        "print(f\"Ukuran data testing: {len(X_test)} sampel\")"
      ],
      "metadata": {
        "colab": {
          "base_uri": "https://localhost:8080/"
        },
        "id": "3qLvnokzaRE5",
        "outputId": "2fd3722a-6204-4b25-a455-2cae0cc708ce"
      },
      "execution_count": 39,
      "outputs": [
        {
          "output_type": "stream",
          "name": "stdout",
          "text": [
            "\n",
            "Ukuran data training: 206184 sampel\n",
            "Ukuran data testing: 51547 sampel\n"
          ]
        }
      ]
    },
    {
      "cell_type": "code",
      "source": [
        "# Tokenisasi - gunakan vocab size yang lebih besar untuk dataset besar\n",
        "vocab_size = 15000  # Ditingkatkan dari 5000\n",
        "print(\"\\nMemulai tokenisasi...\")\n",
        "\n",
        "tokenizer = Tokenizer(num_words=vocab_size)\n",
        "tokenizer.fit_on_texts(X_train)"
      ],
      "metadata": {
        "colab": {
          "base_uri": "https://localhost:8080/"
        },
        "id": "3rbzBl5DaUH8",
        "outputId": "5b2ac366-ed86-4fcb-dd09-2ec946414958"
      },
      "execution_count": 40,
      "outputs": [
        {
          "output_type": "stream",
          "name": "stdout",
          "text": [
            "\n",
            "Memulai tokenisasi...\n"
          ]
        }
      ]
    },
    {
      "cell_type": "code",
      "source": [
        "# Simpan vocabulary size aktual\n",
        "vocab_actual_size = len(tokenizer.word_index) + 1\n",
        "print(f\"Total kata unik dalam vocabulary: {vocab_actual_size}\")"
      ],
      "metadata": {
        "colab": {
          "base_uri": "https://localhost:8080/"
        },
        "id": "ilqEzFjSaZ26",
        "outputId": "063244e1-e883-4e71-824c-94d562ff3a11"
      },
      "execution_count": 41,
      "outputs": [
        {
          "output_type": "stream",
          "name": "stdout",
          "text": [
            "Total kata unik dalam vocabulary: 69791\n"
          ]
        }
      ]
    },
    {
      "cell_type": "code",
      "source": [
        "# Tokenisasi dan padding untuk training set\n",
        "print(\"Tokenisasi training set...\")\n",
        "X_train_seq = tokenizer.texts_to_sequences(X_train)\n",
        "X_train_pad = pad_sequences(X_train_seq, maxlen=max_length, padding='post')\n"
      ],
      "metadata": {
        "colab": {
          "base_uri": "https://localhost:8080/"
        },
        "id": "n-k4z5XBacQG",
        "outputId": "81e594ab-a20c-4f7c-e07a-5c51f5460f07"
      },
      "execution_count": 42,
      "outputs": [
        {
          "output_type": "stream",
          "name": "stdout",
          "text": [
            "Tokenisasi training set...\n"
          ]
        }
      ]
    },
    {
      "cell_type": "code",
      "source": [
        "# Tokenisasi dan padding untuk test set\n",
        "print(\"Tokenisasi test set...\")\n",
        "X_test_seq = tokenizer.texts_to_sequences(X_test)\n",
        "X_test_pad = pad_sequences(X_test_seq, maxlen=max_length, padding='post')\n"
      ],
      "metadata": {
        "colab": {
          "base_uri": "https://localhost:8080/"
        },
        "id": "_rEe5dqrahng",
        "outputId": "6a701670-78fe-4e5e-e076-3ed34bb33106"
      },
      "execution_count": 43,
      "outputs": [
        {
          "output_type": "stream",
          "name": "stdout",
          "text": [
            "Tokenisasi test set...\n"
          ]
        }
      ]
    },
    {
      "cell_type": "code",
      "source": [
        "# MODEL 1: BiLSTM dengan optimasi\n",
        "# ----------------------------------\n",
        "\n",
        "def create_bilstm_model():\n",
        "    model = Sequential([\n",
        "        Embedding(input_dim=min(vocab_size, vocab_actual_size),\n",
        "                  output_dim=128,\n",
        "                  input_length=max_length),\n",
        "        Bidirectional(LSTM(64, return_sequences=True)),\n",
        "        Dropout(0.4),\n",
        "        Bidirectional(LSTM(32)),\n",
        "        Dropout(0.4),\n",
        "        Dense(32, activation='relu'),\n",
        "        Dropout(0.3),\n",
        "        Dense(3, activation='softmax')\n",
        "    ])\n",
        "\n",
        "    model.compile(\n",
        "        loss='sparse_categorical_crossentropy',\n",
        "        optimizer='adam',\n",
        "        metrics=['accuracy']\n",
        "    )\n",
        "    return model\n",
        "\n",
        "print(\"\\n--- MODEL 1: BiLSTM dengan Embedding ---\")\n",
        "model1 = create_bilstm_model()\n",
        "print(model1.summary())"
      ],
      "metadata": {
        "colab": {
          "base_uri": "https://localhost:8080/",
          "height": 455
        },
        "id": "KCLev1neamzH",
        "outputId": "227c7c14-0bc7-45fe-8d56-dad726716687"
      },
      "execution_count": 44,
      "outputs": [
        {
          "output_type": "stream",
          "name": "stdout",
          "text": [
            "\n",
            "--- MODEL 1: BiLSTM dengan Embedding ---\n"
          ]
        },
        {
          "output_type": "display_data",
          "data": {
            "text/plain": [
              "\u001b[1mModel: \"sequential\"\u001b[0m\n"
            ],
            "text/html": [
              "<pre style=\"white-space:pre;overflow-x:auto;line-height:normal;font-family:Menlo,'DejaVu Sans Mono',consolas,'Courier New',monospace\"><span style=\"font-weight: bold\">Model: \"sequential\"</span>\n",
              "</pre>\n"
            ]
          },
          "metadata": {}
        },
        {
          "output_type": "display_data",
          "data": {
            "text/plain": [
              "┏━━━━━━━━━━━━━━━━━━━━━━━━━━━━━━━━━┳━━━━━━━━━━━━━━━━━━━━━━━━┳━━━━━━━━━━━━━━━┓\n",
              "┃\u001b[1m \u001b[0m\u001b[1mLayer (type)                   \u001b[0m\u001b[1m \u001b[0m┃\u001b[1m \u001b[0m\u001b[1mOutput Shape          \u001b[0m\u001b[1m \u001b[0m┃\u001b[1m \u001b[0m\u001b[1m      Param #\u001b[0m\u001b[1m \u001b[0m┃\n",
              "┡━━━━━━━━━━━━━━━━━━━━━━━━━━━━━━━━━╇━━━━━━━━━━━━━━━━━━━━━━━━╇━━━━━━━━━━━━━━━┩\n",
              "│ embedding (\u001b[38;5;33mEmbedding\u001b[0m)           │ ?                      │   \u001b[38;5;34m0\u001b[0m (unbuilt) │\n",
              "├─────────────────────────────────┼────────────────────────┼───────────────┤\n",
              "│ bidirectional (\u001b[38;5;33mBidirectional\u001b[0m)   │ ?                      │   \u001b[38;5;34m0\u001b[0m (unbuilt) │\n",
              "├─────────────────────────────────┼────────────────────────┼───────────────┤\n",
              "│ dropout (\u001b[38;5;33mDropout\u001b[0m)               │ ?                      │             \u001b[38;5;34m0\u001b[0m │\n",
              "├─────────────────────────────────┼────────────────────────┼───────────────┤\n",
              "│ bidirectional_1 (\u001b[38;5;33mBidirectional\u001b[0m) │ ?                      │   \u001b[38;5;34m0\u001b[0m (unbuilt) │\n",
              "├─────────────────────────────────┼────────────────────────┼───────────────┤\n",
              "│ dropout_1 (\u001b[38;5;33mDropout\u001b[0m)             │ ?                      │             \u001b[38;5;34m0\u001b[0m │\n",
              "├─────────────────────────────────┼────────────────────────┼───────────────┤\n",
              "│ dense (\u001b[38;5;33mDense\u001b[0m)                   │ ?                      │   \u001b[38;5;34m0\u001b[0m (unbuilt) │\n",
              "├─────────────────────────────────┼────────────────────────┼───────────────┤\n",
              "│ dropout_2 (\u001b[38;5;33mDropout\u001b[0m)             │ ?                      │             \u001b[38;5;34m0\u001b[0m │\n",
              "├─────────────────────────────────┼────────────────────────┼───────────────┤\n",
              "│ dense_1 (\u001b[38;5;33mDense\u001b[0m)                 │ ?                      │   \u001b[38;5;34m0\u001b[0m (unbuilt) │\n",
              "└─────────────────────────────────┴────────────────────────┴───────────────┘\n"
            ],
            "text/html": [
              "<pre style=\"white-space:pre;overflow-x:auto;line-height:normal;font-family:Menlo,'DejaVu Sans Mono',consolas,'Courier New',monospace\">┏━━━━━━━━━━━━━━━━━━━━━━━━━━━━━━━━━┳━━━━━━━━━━━━━━━━━━━━━━━━┳━━━━━━━━━━━━━━━┓\n",
              "┃<span style=\"font-weight: bold\"> Layer (type)                    </span>┃<span style=\"font-weight: bold\"> Output Shape           </span>┃<span style=\"font-weight: bold\">       Param # </span>┃\n",
              "┡━━━━━━━━━━━━━━━━━━━━━━━━━━━━━━━━━╇━━━━━━━━━━━━━━━━━━━━━━━━╇━━━━━━━━━━━━━━━┩\n",
              "│ embedding (<span style=\"color: #0087ff; text-decoration-color: #0087ff\">Embedding</span>)           │ ?                      │   <span style=\"color: #00af00; text-decoration-color: #00af00\">0</span> (unbuilt) │\n",
              "├─────────────────────────────────┼────────────────────────┼───────────────┤\n",
              "│ bidirectional (<span style=\"color: #0087ff; text-decoration-color: #0087ff\">Bidirectional</span>)   │ ?                      │   <span style=\"color: #00af00; text-decoration-color: #00af00\">0</span> (unbuilt) │\n",
              "├─────────────────────────────────┼────────────────────────┼───────────────┤\n",
              "│ dropout (<span style=\"color: #0087ff; text-decoration-color: #0087ff\">Dropout</span>)               │ ?                      │             <span style=\"color: #00af00; text-decoration-color: #00af00\">0</span> │\n",
              "├─────────────────────────────────┼────────────────────────┼───────────────┤\n",
              "│ bidirectional_1 (<span style=\"color: #0087ff; text-decoration-color: #0087ff\">Bidirectional</span>) │ ?                      │   <span style=\"color: #00af00; text-decoration-color: #00af00\">0</span> (unbuilt) │\n",
              "├─────────────────────────────────┼────────────────────────┼───────────────┤\n",
              "│ dropout_1 (<span style=\"color: #0087ff; text-decoration-color: #0087ff\">Dropout</span>)             │ ?                      │             <span style=\"color: #00af00; text-decoration-color: #00af00\">0</span> │\n",
              "├─────────────────────────────────┼────────────────────────┼───────────────┤\n",
              "│ dense (<span style=\"color: #0087ff; text-decoration-color: #0087ff\">Dense</span>)                   │ ?                      │   <span style=\"color: #00af00; text-decoration-color: #00af00\">0</span> (unbuilt) │\n",
              "├─────────────────────────────────┼────────────────────────┼───────────────┤\n",
              "│ dropout_2 (<span style=\"color: #0087ff; text-decoration-color: #0087ff\">Dropout</span>)             │ ?                      │             <span style=\"color: #00af00; text-decoration-color: #00af00\">0</span> │\n",
              "├─────────────────────────────────┼────────────────────────┼───────────────┤\n",
              "│ dense_1 (<span style=\"color: #0087ff; text-decoration-color: #0087ff\">Dense</span>)                 │ ?                      │   <span style=\"color: #00af00; text-decoration-color: #00af00\">0</span> (unbuilt) │\n",
              "└─────────────────────────────────┴────────────────────────┴───────────────┘\n",
              "</pre>\n"
            ]
          },
          "metadata": {}
        },
        {
          "output_type": "display_data",
          "data": {
            "text/plain": [
              "\u001b[1m Total params: \u001b[0m\u001b[38;5;34m0\u001b[0m (0.00 B)\n"
            ],
            "text/html": [
              "<pre style=\"white-space:pre;overflow-x:auto;line-height:normal;font-family:Menlo,'DejaVu Sans Mono',consolas,'Courier New',monospace\"><span style=\"font-weight: bold\"> Total params: </span><span style=\"color: #00af00; text-decoration-color: #00af00\">0</span> (0.00 B)\n",
              "</pre>\n"
            ]
          },
          "metadata": {}
        },
        {
          "output_type": "display_data",
          "data": {
            "text/plain": [
              "\u001b[1m Trainable params: \u001b[0m\u001b[38;5;34m0\u001b[0m (0.00 B)\n"
            ],
            "text/html": [
              "<pre style=\"white-space:pre;overflow-x:auto;line-height:normal;font-family:Menlo,'DejaVu Sans Mono',consolas,'Courier New',monospace\"><span style=\"font-weight: bold\"> Trainable params: </span><span style=\"color: #00af00; text-decoration-color: #00af00\">0</span> (0.00 B)\n",
              "</pre>\n"
            ]
          },
          "metadata": {}
        },
        {
          "output_type": "display_data",
          "data": {
            "text/plain": [
              "\u001b[1m Non-trainable params: \u001b[0m\u001b[38;5;34m0\u001b[0m (0.00 B)\n"
            ],
            "text/html": [
              "<pre style=\"white-space:pre;overflow-x:auto;line-height:normal;font-family:Menlo,'DejaVu Sans Mono',consolas,'Courier New',monospace\"><span style=\"font-weight: bold\"> Non-trainable params: </span><span style=\"color: #00af00; text-decoration-color: #00af00\">0</span> (0.00 B)\n",
              "</pre>\n"
            ]
          },
          "metadata": {}
        },
        {
          "output_type": "stream",
          "name": "stdout",
          "text": [
            "None\n"
          ]
        }
      ]
    },
    {
      "cell_type": "code",
      "source": [
        "# Callbacks dengan lebih banyak opsi\n",
        "callbacks = [\n",
        "    EarlyStopping(monitor='val_accuracy',\n",
        "                  patience=3,\n",
        "                  restore_best_weights=True),\n",
        "    ReduceLROnPlateau(monitor='val_loss',\n",
        "                      factor=0.5,\n",
        "                      patience=2,\n",
        "                      min_lr=0.0001),\n",
        "    ModelCheckpoint('best_model1.h5',\n",
        "                    monitor='val_accuracy',\n",
        "                    save_best_only=True)\n",
        "]"
      ],
      "metadata": {
        "id": "CpNf4J8JapbJ"
      },
      "execution_count": 45,
      "outputs": []
    },
    {
      "cell_type": "code",
      "source": [
        "# Training model 1 dengan batch size yang lebih besar\n",
        "batch_size = 64  # Ditingkatkan untuk kecepatan\n",
        "print(f\"\\nMemulai training Model 1 dengan batch size {batch_size}...\")\n",
        "\n",
        "history1 = model1.fit(\n",
        "    X_train_pad, y_train,\n",
        "    epochs=10,  # Dikurangi karena dataset lebih besar\n",
        "    batch_size=batch_size,\n",
        "    validation_split=0.1,\n",
        "    callbacks=callbacks,\n",
        "    verbose=1\n",
        ")"
      ],
      "metadata": {
        "colab": {
          "base_uri": "https://localhost:8080/"
        },
        "id": "o6iMEB66asuy",
        "outputId": "574e96b1-9200-4a3a-afe2-0ad32bba1abf"
      },
      "execution_count": 46,
      "outputs": [
        {
          "metadata": {
            "tags": null
          },
          "name": "stdout",
          "output_type": "stream",
          "text": [
            "\n",
            "Memulai training Model 1 dengan batch size 64...\n",
            "Epoch 1/10\n",
            "\u001b[1m2900/2900\u001b[0m \u001b[32m━━━━━━━━━━━━━━━━━━━━\u001b[0m\u001b[37m\u001b[0m \u001b[1m0s\u001b[0m 366ms/step - accuracy: 0.8656 - loss: 0.3985"
          ]
        },
        {
          "metadata": {
            "tags": null
          },
          "name": "stderr",
          "output_type": "stream",
          "text": [
            "WARNING:absl:You are saving your model as an HDF5 file via `model.save()` or `keras.saving.save_model(model)`. This file format is considered legacy. We recommend using instead the native Keras format, e.g. `model.save('my_model.keras')` or `keras.saving.save_model(model, 'my_model.keras')`. \n"
          ]
        },
        {
          "metadata": {
            "tags": null
          },
          "name": "stdout",
          "output_type": "stream",
          "text": [
            "\u001b[1m2900/2900\u001b[0m \u001b[32m━━━━━━━━━━━━━━━━━━━━\u001b[0m\u001b[37m\u001b[0m \u001b[1m1111s\u001b[0m 380ms/step - accuracy: 0.8656 - loss: 0.3985 - val_accuracy: 0.8954 - val_loss: 0.3170 - learning_rate: 0.0010\n",
            "Epoch 2/10\n",
            "\u001b[1m2900/2900\u001b[0m \u001b[32m━━━━━━━━━━━━━━━━━━━━\u001b[0m\u001b[37m\u001b[0m \u001b[1m0s\u001b[0m 371ms/step - accuracy: 0.9058 - loss: 0.2944"
          ]
        },
        {
          "metadata": {
            "tags": null
          },
          "name": "stderr",
          "output_type": "stream",
          "text": [
            "WARNING:absl:You are saving your model as an HDF5 file via `model.save()` or `keras.saving.save_model(model)`. This file format is considered legacy. We recommend using instead the native Keras format, e.g. `model.save('my_model.keras')` or `keras.saving.save_model(model, 'my_model.keras')`. \n"
          ]
        },
        {
          "output_type": "stream",
          "name": "stdout",
          "text": [
            "\u001b[1m2900/2900\u001b[0m \u001b[32m━━━━━━━━━━━━━━━━━━━━\u001b[0m\u001b[37m\u001b[0m \u001b[1m1169s\u001b[0m 383ms/step - accuracy: 0.9058 - loss: 0.2944 - val_accuracy: 0.8975 - val_loss: 0.3090 - learning_rate: 0.0010\n",
            "Epoch 3/10\n",
            "\u001b[1m2900/2900\u001b[0m \u001b[32m━━━━━━━━━━━━━━━━━━━━\u001b[0m\u001b[37m\u001b[0m \u001b[1m0s\u001b[0m 368ms/step - accuracy: 0.9137 - loss: 0.2703"
          ]
        },
        {
          "output_type": "stream",
          "name": "stderr",
          "text": [
            "WARNING:absl:You are saving your model as an HDF5 file via `model.save()` or `keras.saving.save_model(model)`. This file format is considered legacy. We recommend using instead the native Keras format, e.g. `model.save('my_model.keras')` or `keras.saving.save_model(model, 'my_model.keras')`. \n"
          ]
        },
        {
          "output_type": "stream",
          "name": "stdout",
          "text": [
            "\b\b\b\b\b\b\b\b\b\b\b\b\b\b\b\b\b\b\b\b\b\b\b\b\b\b\b\b\b\b\b\b\b\b\b\b\b\b\b\b\b\b\b\b\b\b\b\b\b\b\b\b\b\b\b\b\b\b\b\b\b\b\b\b\b\b\b\b\b\b\b\b\b\b\b\b\b\b\r\u001b[1m2900/2900\u001b[0m \u001b[32m━━━━━━━━━━━━━━━━━━━━\u001b[0m\u001b[37m\u001b[0m \u001b[1m1160s\u001b[0m 382ms/step - accuracy: 0.9137 - loss: 0.2703 - val_accuracy: 0.8982 - val_loss: 0.3155 - learning_rate: 0.0010\n",
            "Epoch 4/10\n",
            "\u001b[1m2900/2900\u001b[0m \u001b[32m━━━━━━━━━━━━━━━━━━━━\u001b[0m\u001b[37m\u001b[0m \u001b[1m1175s\u001b[0m 387ms/step - accuracy: 0.9198 - loss: 0.2509 - val_accuracy: 0.8956 - val_loss: 0.3330 - learning_rate: 0.0010\n",
            "Epoch 5/10\n",
            "\u001b[1m2900/2900\u001b[0m \u001b[32m━━━━━━━━━━━━━━━━━━━━\u001b[0m\u001b[37m\u001b[0m \u001b[1m1132s\u001b[0m 390ms/step - accuracy: 0.9252 - loss: 0.2300 - val_accuracy: 0.8928 - val_loss: 0.3636 - learning_rate: 5.0000e-04\n",
            "Epoch 6/10\n",
            "\u001b[1m2900/2900\u001b[0m \u001b[32m━━━━━━━━━━━━━━━━━━━━\u001b[0m\u001b[37m\u001b[0m \u001b[1m1140s\u001b[0m 383ms/step - accuracy: 0.9315 - loss: 0.2110 - val_accuracy: 0.8885 - val_loss: 0.4016 - learning_rate: 5.0000e-04\n"
          ]
        }
      ]
    },
    {
      "cell_type": "code",
      "source": [
        "# Evaluasi model 1\n",
        "print(\"\\nEvaluasi Model 1 pada test set...\")\n",
        "loss1, accuracy1 = model1.evaluate(X_test_pad, y_test, batch_size=batch_size)\n",
        "print(f\"Model 1 - Test Accuracy: {accuracy1*100:.2f}%\")\n"
      ],
      "metadata": {
        "colab": {
          "base_uri": "https://localhost:8080/"
        },
        "id": "KL1WK6_62YmU",
        "outputId": "cae6274a-866f-48ed-b94d-0dffdc7f20f3"
      },
      "execution_count": 49,
      "outputs": [
        {
          "output_type": "stream",
          "name": "stdout",
          "text": [
            "\n",
            "Evaluasi Model 1 pada test set...\n",
            "\u001b[1m806/806\u001b[0m \u001b[32m━━━━━━━━━━━━━━━━━━━━\u001b[0m\u001b[37m\u001b[0m \u001b[1m83s\u001b[0m 103ms/step - accuracy: 0.8999 - loss: 0.3089\n",
            "Model 1 - Test Accuracy: 90.03%\n"
          ]
        }
      ]
    },
    {
      "cell_type": "code",
      "source": [
        "# Prediksi dan evaluasi lanjutan\n",
        "y_pred1 = model1.predict(X_test_pad, batch_size=batch_size)\n",
        "y_pred_classes1 = np.argmax(y_pred1, axis=1)\n",
        "\n",
        "print(\"Classification Report - Model 1:\")\n",
        "cr1 = classification_report(y_test, y_pred_classes1, target_names=['negatif', 'netral', 'positif'])\n",
        "print(cr1)"
      ],
      "metadata": {
        "colab": {
          "base_uri": "https://localhost:8080/"
        },
        "id": "l3sepZ-gKVmZ",
        "outputId": "7d485b3c-89a3-42ef-cdf9-2cc990ce8b73"
      },
      "execution_count": 58,
      "outputs": [
        {
          "output_type": "stream",
          "name": "stdout",
          "text": [
            "\u001b[1m806/806\u001b[0m \u001b[32m━━━━━━━━━━━━━━━━━━━━\u001b[0m\u001b[37m\u001b[0m \u001b[1m97s\u001b[0m 117ms/step\n",
            "Classification Report - Model 1:\n",
            "              precision    recall  f1-score   support\n",
            "\n",
            "     negatif       0.80      0.91      0.85     13954\n",
            "      netral       0.00      0.00      0.00      2064\n",
            "     positif       0.95      0.95      0.95     35529\n",
            "\n",
            "    accuracy                           0.90     51547\n",
            "   macro avg       0.58      0.62      0.60     51547\n",
            "weighted avg       0.87      0.90      0.88     51547\n",
            "\n"
          ]
        }
      ]
    },
    {
      "cell_type": "code",
      "source": [
        "# Plot training history\n",
        "plt.figure(figsize=(12, 5))\n",
        "plt.subplot(1, 2, 1)\n",
        "plt.plot(history1.history['accuracy'])\n",
        "plt.plot(history1.history['val_accuracy'])\n",
        "plt.title('Model 1: Accuracy')\n",
        "plt.ylabel('Accuracy')\n",
        "plt.xlabel('Epoch')\n",
        "plt.legend(['train', 'val'], loc='upper left')\n",
        "\n",
        "plt.subplot(1, 2, 2)\n",
        "plt.plot(history1.history['loss'])\n",
        "plt.plot(history1.history['val_loss'])\n",
        "plt.title('Model 1: Loss')\n",
        "plt.ylabel('Loss')\n",
        "plt.xlabel('Epoch')\n",
        "plt.legend(['train', 'val'], loc='upper left')\n",
        "plt.tight_layout()\n",
        "plt.show()  # Tampilkan langsung di Colab\n"
      ],
      "metadata": {
        "colab": {
          "base_uri": "https://localhost:8080/",
          "height": 492
        },
        "id": "mAKeLzI43Hp-",
        "outputId": "1953b854-d08f-4b16-9a29-959ef0a05a5a"
      },
      "execution_count": 59,
      "outputs": [
        {
          "output_type": "display_data",
          "data": {
            "text/plain": [
              "<Figure size 1200x500 with 2 Axes>"
            ],
            "image/png": "[encoded data removed]"
          },
          "metadata": {}
        }
      ]
    },
    {
      "cell_type": "code",
      "source": [
        "# ----------------------------------\n",
        "# MODEL 2: CNN + Global Max Pooling\n",
        "# ----------------------------------\n",
        "\n",
        "def create_cnn_model():\n",
        "    model = Sequential([\n",
        "        Embedding(input_dim=min(vocab_size, vocab_actual_size),\n",
        "                  output_dim=128,\n",
        "                  input_length=max_length),\n",
        "        Conv1D(128, 5, padding='same', activation='relu'),\n",
        "        Conv1D(128, 3, padding='same', activation='relu'),\n",
        "        GlobalMaxPooling1D(),\n",
        "        Dense(64, activation='relu'),\n",
        "        Dropout(0.4),\n",
        "        Dense(3, activation='softmax')\n",
        "    ])\n",
        "\n",
        "    model.compile(\n",
        "        loss='sparse_categorical_crossentropy',\n",
        "        optimizer='adam',\n",
        "        metrics=['accuracy']\n",
        "    )\n",
        "    return model\n",
        "\n",
        "print(\"\\n--- MODEL 2: CNN dengan Global Max Pooling ---\")\n",
        "model2 = create_cnn_model()\n",
        "print(model2.summary())\n"
      ],
      "metadata": {
        "colab": {
          "base_uri": "https://localhost:8080/",
          "height": 439
        },
        "id": "vyolzBA-3OOo",
        "outputId": "f25f3725-d5d7-447e-f7eb-fbc5383350cd"
      },
      "execution_count": 51,
      "outputs": [
        {
          "output_type": "stream",
          "name": "stdout",
          "text": [
            "\n",
            "--- MODEL 2: CNN dengan Global Max Pooling ---\n"
          ]
        },
        {
          "output_type": "display_data",
          "data": {
            "text/plain": [
              "\u001b[1mModel: \"sequential_1\"\u001b[0m\n"
            ],
            "text/html": [
              "<pre style=\"white-space:pre;overflow-x:auto;line-height:normal;font-family:Menlo,'DejaVu Sans Mono',consolas,'Courier New',monospace\"><span style=\"font-weight: bold\">Model: \"sequential_1\"</span>\n",
              "</pre>\n"
            ]
          },
          "metadata": {}
        },
        {
          "output_type": "display_data",
          "data": {
            "text/plain": [
              "┏━━━━━━━━━━━━━━━━━━━━━━━━━━━━━━━━━┳━━━━━━━━━━━━━━━━━━━━━━━━┳━━━━━━━━━━━━━━━┓\n",
              "┃\u001b[1m \u001b[0m\u001b[1mLayer (type)                   \u001b[0m\u001b[1m \u001b[0m┃\u001b[1m \u001b[0m\u001b[1mOutput Shape          \u001b[0m\u001b[1m \u001b[0m┃\u001b[1m \u001b[0m\u001b[1m      Param #\u001b[0m\u001b[1m \u001b[0m┃\n",
              "┡━━━━━━━━━━━━━━━━━━━━━━━━━━━━━━━━━╇━━━━━━━━━━━━━━━━━━━━━━━━╇━━━━━━━━━━━━━━━┩\n",
              "│ embedding_1 (\u001b[38;5;33mEmbedding\u001b[0m)         │ ?                      │   \u001b[38;5;34m0\u001b[0m (unbuilt) │\n",
              "├─────────────────────────────────┼────────────────────────┼───────────────┤\n",
              "│ conv1d (\u001b[38;5;33mConv1D\u001b[0m)                 │ ?                      │   \u001b[38;5;34m0\u001b[0m (unbuilt) │\n",
              "├─────────────────────────────────┼────────────────────────┼───────────────┤\n",
              "│ conv1d_1 (\u001b[38;5;33mConv1D\u001b[0m)               │ ?                      │   \u001b[38;5;34m0\u001b[0m (unbuilt) │\n",
              "├─────────────────────────────────┼────────────────────────┼───────────────┤\n",
              "│ global_max_pooling1d            │ ?                      │             \u001b[38;5;34m0\u001b[0m │\n",
              "│ (\u001b[38;5;33mGlobalMaxPooling1D\u001b[0m)            │                        │               │\n",
              "├─────────────────────────────────┼────────────────────────┼───────────────┤\n",
              "│ dense_2 (\u001b[38;5;33mDense\u001b[0m)                 │ ?                      │   \u001b[38;5;34m0\u001b[0m (unbuilt) │\n",
              "├─────────────────────────────────┼────────────────────────┼───────────────┤\n",
              "│ dropout_3 (\u001b[38;5;33mDropout\u001b[0m)             │ ?                      │             \u001b[38;5;34m0\u001b[0m │\n",
              "├─────────────────────────────────┼────────────────────────┼───────────────┤\n",
              "│ dense_3 (\u001b[38;5;33mDense\u001b[0m)                 │ ?                      │   \u001b[38;5;34m0\u001b[0m (unbuilt) │\n",
              "└─────────────────────────────────┴────────────────────────┴───────────────┘\n"
            ],
            "text/html": [
              "<pre style=\"white-space:pre;overflow-x:auto;line-height:normal;font-family:Menlo,'DejaVu Sans Mono',consolas,'Courier New',monospace\">┏━━━━━━━━━━━━━━━━━━━━━━━━━━━━━━━━━┳━━━━━━━━━━━━━━━━━━━━━━━━┳━━━━━━━━━━━━━━━┓\n",
              "┃<span style=\"font-weight: bold\"> Layer (type)                    </span>┃<span style=\"font-weight: bold\"> Output Shape           </span>┃<span style=\"font-weight: bold\">       Param # </span>┃\n",
              "┡━━━━━━━━━━━━━━━━━━━━━━━━━━━━━━━━━╇━━━━━━━━━━━━━━━━━━━━━━━━╇━━━━━━━━━━━━━━━┩\n",
              "│ embedding_1 (<span style=\"color: #0087ff; text-decoration-color: #0087ff\">Embedding</span>)         │ ?                      │   <span style=\"color: #00af00; text-decoration-color: #00af00\">0</span> (unbuilt) │\n",
              "├─────────────────────────────────┼────────────────────────┼───────────────┤\n",
              "│ conv1d (<span style=\"color: #0087ff; text-decoration-color: #0087ff\">Conv1D</span>)                 │ ?                      │   <span style=\"color: #00af00; text-decoration-color: #00af00\">0</span> (unbuilt) │\n",
              "├─────────────────────────────────┼────────────────────────┼───────────────┤\n",
              "│ conv1d_1 (<span style=\"color: #0087ff; text-decoration-color: #0087ff\">Conv1D</span>)               │ ?                      │   <span style=\"color: #00af00; text-decoration-color: #00af00\">0</span> (unbuilt) │\n",
              "├─────────────────────────────────┼────────────────────────┼───────────────┤\n",
              "│ global_max_pooling1d            │ ?                      │             <span style=\"color: #00af00; text-decoration-color: #00af00\">0</span> │\n",
              "│ (<span style=\"color: #0087ff; text-decoration-color: #0087ff\">GlobalMaxPooling1D</span>)            │                        │               │\n",
              "├─────────────────────────────────┼────────────────────────┼───────────────┤\n",
              "│ dense_2 (<span style=\"color: #0087ff; text-decoration-color: #0087ff\">Dense</span>)                 │ ?                      │   <span style=\"color: #00af00; text-decoration-color: #00af00\">0</span> (unbuilt) │\n",
              "├─────────────────────────────────┼────────────────────────┼───────────────┤\n",
              "│ dropout_3 (<span style=\"color: #0087ff; text-decoration-color: #0087ff\">Dropout</span>)             │ ?                      │             <span style=\"color: #00af00; text-decoration-color: #00af00\">0</span> │\n",
              "├─────────────────────────────────┼────────────────────────┼───────────────┤\n",
              "│ dense_3 (<span style=\"color: #0087ff; text-decoration-color: #0087ff\">Dense</span>)                 │ ?                      │   <span style=\"color: #00af00; text-decoration-color: #00af00\">0</span> (unbuilt) │\n",
              "└─────────────────────────────────┴────────────────────────┴───────────────┘\n",
              "</pre>\n"
            ]
          },
          "metadata": {}
        },
        {
          "output_type": "display_data",
          "data": {
            "text/plain": [
              "\u001b[1m Total params: \u001b[0m\u001b[38;5;34m0\u001b[0m (0.00 B)\n"
            ],
            "text/html": [
              "<pre style=\"white-space:pre;overflow-x:auto;line-height:normal;font-family:Menlo,'DejaVu Sans Mono',consolas,'Courier New',monospace\"><span style=\"font-weight: bold\"> Total params: </span><span style=\"color: #00af00; text-decoration-color: #00af00\">0</span> (0.00 B)\n",
              "</pre>\n"
            ]
          },
          "metadata": {}
        },
        {
          "output_type": "display_data",
          "data": {
            "text/plain": [
              "\u001b[1m Trainable params: \u001b[0m\u001b[38;5;34m0\u001b[0m (0.00 B)\n"
            ],
            "text/html": [
              "<pre style=\"white-space:pre;overflow-x:auto;line-height:normal;font-family:Menlo,'DejaVu Sans Mono',consolas,'Courier New',monospace\"><span style=\"font-weight: bold\"> Trainable params: </span><span style=\"color: #00af00; text-decoration-color: #00af00\">0</span> (0.00 B)\n",
              "</pre>\n"
            ]
          },
          "metadata": {}
        },
        {
          "output_type": "display_data",
          "data": {
            "text/plain": [
              "\u001b[1m Non-trainable params: \u001b[0m\u001b[38;5;34m0\u001b[0m (0.00 B)\n"
            ],
            "text/html": [
              "<pre style=\"white-space:pre;overflow-x:auto;line-height:normal;font-family:Menlo,'DejaVu Sans Mono',consolas,'Courier New',monospace\"><span style=\"font-weight: bold\"> Non-trainable params: </span><span style=\"color: #00af00; text-decoration-color: #00af00\">0</span> (0.00 B)\n",
              "</pre>\n"
            ]
          },
          "metadata": {}
        },
        {
          "output_type": "stream",
          "name": "stdout",
          "text": [
            "None\n"
          ]
        }
      ]
    },
    {
      "cell_type": "code",
      "source": [
        "# Training model 2\n",
        "print(f\"\\nMemulai training Model 2 dengan batch size {batch_size}...\")\n",
        "history2 = model2.fit(\n",
        "    X_train_pad, y_train,\n",
        "    epochs=10,\n",
        "    batch_size=batch_size,\n",
        "    validation_split=0.1,\n",
        "    callbacks=callbacks,\n",
        "    verbose=1\n",
        ")"
      ],
      "metadata": {
        "colab": {
          "base_uri": "https://localhost:8080/"
        },
        "id": "q3XOBIo93WmQ",
        "outputId": "48bd6d98-0988-4b54-ae49-841ee8acc532"
      },
      "execution_count": 52,
      "outputs": [
        {
          "output_type": "stream",
          "name": "stdout",
          "text": [
            "\n",
            "Memulai training Model 2 dengan batch size 64...\n",
            "Epoch 1/10\n",
            "\u001b[1m2900/2900\u001b[0m \u001b[32m━━━━━━━━━━━━━━━━━━━━\u001b[0m\u001b[37m\u001b[0m \u001b[1m430s\u001b[0m 147ms/step - accuracy: 0.8701 - loss: 0.3891 - val_accuracy: 0.8966 - val_loss: 0.3107 - learning_rate: 0.0010\n",
            "Epoch 2/10\n",
            "\u001b[1m2900/2900\u001b[0m \u001b[32m━━━━━━━━━━━━━━━━━━━━\u001b[0m\u001b[37m\u001b[0m \u001b[1m425s\u001b[0m 147ms/step - accuracy: 0.9091 - loss: 0.2840 - val_accuracy: 0.8959 - val_loss: 0.3119 - learning_rate: 0.0010\n",
            "Epoch 3/10\n",
            "\u001b[1m2900/2900\u001b[0m \u001b[32m━━━━━━━━━━━━━━━━━━━━\u001b[0m\u001b[37m\u001b[0m \u001b[1m440s\u001b[0m 146ms/step - accuracy: 0.9196 - loss: 0.2502 - val_accuracy: 0.8943 - val_loss: 0.3277 - learning_rate: 0.0010\n",
            "Epoch 4/10\n",
            "\u001b[1m2900/2900\u001b[0m \u001b[32m━━━━━━━━━━━━━━━━━━━━\u001b[0m\u001b[37m\u001b[0m \u001b[1m430s\u001b[0m 148ms/step - accuracy: 0.9302 - loss: 0.2097 - val_accuracy: 0.8898 - val_loss: 0.3751 - learning_rate: 5.0000e-04\n"
          ]
        }
      ]
    },
    {
      "cell_type": "code",
      "source": [
        "# Evaluasi model 2\n",
        "print(\"\\nEvaluasi Model 2 pada test set...\")\n",
        "loss2, accuracy2 = model2.evaluate(X_test_pad, y_test, batch_size=batch_size)\n",
        "print(f\"Model 2 - Test Accuracy: {accuracy2*100:.2f}%\")"
      ],
      "metadata": {
        "colab": {
          "base_uri": "https://localhost:8080/"
        },
        "id": "appkg-fgAXNK",
        "outputId": "a414d9aa-87d7-4234-8be5-6e9dc83ec1d9"
      },
      "execution_count": 53,
      "outputs": [
        {
          "output_type": "stream",
          "name": "stdout",
          "text": [
            "\n",
            "Evaluasi Model 2 pada test set...\n",
            "\u001b[1m806/806\u001b[0m \u001b[32m━━━━━━━━━━━━━━━━━━━━\u001b[0m\u001b[37m\u001b[0m \u001b[1m37s\u001b[0m 46ms/step - accuracy: 0.9005 - loss: 0.3039\n",
            "Model 2 - Test Accuracy: 90.04%\n"
          ]
        }
      ]
    },
    {
      "cell_type": "code",
      "source": [
        "# Prediksi dan evaluasi lanjutan\n",
        "y_pred2 = model2.predict(X_test_pad, batch_size=batch_size)\n",
        "y_pred_classes2 = np.argmax(y_pred2, axis=1)\n",
        "\n",
        "print(\"Classification Report - Model 2:\")\n",
        "cr2 = classification_report(y_test, y_pred_classes2, target_names=['negatif', 'netral', 'positif'])\n",
        "print(cr2)"
      ],
      "metadata": {
        "colab": {
          "base_uri": "https://localhost:8080/"
        },
        "id": "7n0RKnmpAcof",
        "outputId": "7b513873-fe65-4d7b-a2f8-1a72b3aabd58"
      },
      "execution_count": 54,
      "outputs": [
        {
          "output_type": "stream",
          "name": "stdout",
          "text": [
            "\u001b[1m806/806\u001b[0m \u001b[32m━━━━━━━━━━━━━━━━━━━━\u001b[0m\u001b[37m\u001b[0m \u001b[1m29s\u001b[0m 36ms/step\n",
            "Classification Report - Model 2:\n",
            "              precision    recall  f1-score   support\n",
            "\n",
            "     negatif       0.80      0.91      0.85     13954\n",
            "      netral       0.00      0.00      0.00      2064\n",
            "     positif       0.95      0.95      0.95     35529\n",
            "\n",
            "    accuracy                           0.90     51547\n",
            "   macro avg       0.58      0.62      0.60     51547\n",
            "weighted avg       0.87      0.90      0.88     51547\n",
            "\n"
          ]
        }
      ]
    },
    {
      "cell_type": "code",
      "source": [
        "# Plot training history\n",
        "plt.figure(figsize=(12, 5))\n",
        "plt.subplot(1, 2, 1)\n",
        "plt.plot(history2.history['accuracy'])\n",
        "plt.plot(history2.history['val_accuracy'])\n",
        "plt.title('Model 2: Accuracy')\n",
        "plt.ylabel('Accuracy')\n",
        "plt.xlabel('Epoch')\n",
        "plt.legend(['train', 'val'], loc='upper left')\n",
        "\n",
        "plt.subplot(1, 2, 2)\n",
        "plt.plot(history2.history['loss'])\n",
        "plt.plot(history2.history['val_loss'])\n",
        "plt.title('Model 2: Loss')\n",
        "plt.ylabel('Loss')\n",
        "plt.xlabel('Epoch')\n",
        "plt.legend(['train', 'val'], loc='upper left')\n",
        "plt.tight_layout()\n",
        "plt.show()"
      ],
      "metadata": {
        "colab": {
          "base_uri": "https://localhost:8080/",
          "height": 492
        },
        "id": "9twWhvTeAwFy",
        "outputId": "52811f52-b32a-44c9-e38d-3a1de4654df0"
      },
      "execution_count": 55,
      "outputs": [
        {
          "output_type": "display_data",
          "data": {
            "text/plain": [
              "<Figure size 1200x500 with 2 Axes>"
            ],
            "image/png": "[encoded data removed]"
          },
          "metadata": {}
        }
      ]
    },
    {
      "cell_type": "code",
      "source": [
        "# ----------------------------------\n",
        "# MODEL 3: Hybrid CNN-LSTM\n",
        "# ----------------------------------\n",
        "\n",
        "def create_cnn_lstm_model():\n",
        "    model = Sequential([\n",
        "        Embedding(input_dim=min(vocab_size, vocab_actual_size),\n",
        "                  output_dim=128,\n",
        "                  input_length=max_length),\n",
        "        Conv1D(128, 3, padding='same', activation='relu'),\n",
        "        MaxPooling1D(pool_size=2),\n",
        "        LSTM(64, return_sequences=False),\n",
        "        Dropout(0.4),\n",
        "        Dense(32, activation='relu'),\n",
        "        Dropout(0.3),\n",
        "        Dense(3, activation='softmax')\n",
        "    ])\n",
        "\n",
        "    model.compile(\n",
        "        loss='sparse_categorical_crossentropy',\n",
        "        optimizer='adam',\n",
        "        metrics=['accuracy']\n",
        "    )\n",
        "    return model\n",
        "\n",
        "print(\"\\n--- MODEL 3: Hybrid CNN-LSTM ---\")\n",
        "model3 = create_cnn_lstm_model()\n",
        "print(model3.summary())"
      ],
      "metadata": {
        "colab": {
          "base_uri": "https://localhost:8080/",
          "height": 455
        },
        "id": "DT2b6zCtA4Ef",
        "outputId": "3b950dc1-4c7d-40cc-fa11-d3eb2d97694d"
      },
      "execution_count": 56,
      "outputs": [
        {
          "output_type": "stream",
          "name": "stdout",
          "text": [
            "\n",
            "--- MODEL 3: Hybrid CNN-LSTM ---\n"
          ]
        },
        {
          "output_type": "display_data",
          "data": {
            "text/plain": [
              "\u001b[1mModel: \"sequential_2\"\u001b[0m\n"
            ],
            "text/html": [
              "<pre style=\"white-space:pre;overflow-x:auto;line-height:normal;font-family:Menlo,'DejaVu Sans Mono',consolas,'Courier New',monospace\"><span style=\"font-weight: bold\">Model: \"sequential_2\"</span>\n",
              "</pre>\n"
            ]
          },
          "metadata": {}
        },
        {
          "output_type": "display_data",
          "data": {
            "text/plain": [
              "┏━━━━━━━━━━━━━━━━━━━━━━━━━━━━━━━━━┳━━━━━━━━━━━━━━━━━━━━━━━━┳━━━━━━━━━━━━━━━┓\n",
              "┃\u001b[1m \u001b[0m\u001b[1mLayer (type)                   \u001b[0m\u001b[1m \u001b[0m┃\u001b[1m \u001b[0m\u001b[1mOutput Shape          \u001b[0m\u001b[1m \u001b[0m┃\u001b[1m \u001b[0m\u001b[1m      Param #\u001b[0m\u001b[1m \u001b[0m┃\n",
              "┡━━━━━━━━━━━━━━━━━━━━━━━━━━━━━━━━━╇━━━━━━━━━━━━━━━━━━━━━━━━╇━━━━━━━━━━━━━━━┩\n",
              "│ embedding_2 (\u001b[38;5;33mEmbedding\u001b[0m)         │ ?                      │   \u001b[38;5;34m0\u001b[0m (unbuilt) │\n",
              "├─────────────────────────────────┼────────────────────────┼───────────────┤\n",
              "│ conv1d_2 (\u001b[38;5;33mConv1D\u001b[0m)               │ ?                      │   \u001b[38;5;34m0\u001b[0m (unbuilt) │\n",
              "├─────────────────────────────────┼────────────────────────┼───────────────┤\n",
              "│ max_pooling1d (\u001b[38;5;33mMaxPooling1D\u001b[0m)    │ ?                      │             \u001b[38;5;34m0\u001b[0m │\n",
              "├─────────────────────────────────┼────────────────────────┼───────────────┤\n",
              "│ lstm_2 (\u001b[38;5;33mLSTM\u001b[0m)                   │ ?                      │   \u001b[38;5;34m0\u001b[0m (unbuilt) │\n",
              "├─────────────────────────────────┼────────────────────────┼───────────────┤\n",
              "│ dropout_4 (\u001b[38;5;33mDropout\u001b[0m)             │ ?                      │             \u001b[38;5;34m0\u001b[0m │\n",
              "├─────────────────────────────────┼────────────────────────┼───────────────┤\n",
              "│ dense_4 (\u001b[38;5;33mDense\u001b[0m)                 │ ?                      │   \u001b[38;5;34m0\u001b[0m (unbuilt) │\n",
              "├─────────────────────────────────┼────────────────────────┼───────────────┤\n",
              "│ dropout_5 (\u001b[38;5;33mDropout\u001b[0m)             │ ?                      │             \u001b[38;5;34m0\u001b[0m │\n",
              "├─────────────────────────────────┼────────────────────────┼───────────────┤\n",
              "│ dense_5 (\u001b[38;5;33mDense\u001b[0m)                 │ ?                      │   \u001b[38;5;34m0\u001b[0m (unbuilt) │\n",
              "└─────────────────────────────────┴────────────────────────┴───────────────┘\n"
            ],
            "text/html": [
              "<pre style=\"white-space:pre;overflow-x:auto;line-height:normal;font-family:Menlo,'DejaVu Sans Mono',consolas,'Courier New',monospace\">┏━━━━━━━━━━━━━━━━━━━━━━━━━━━━━━━━━┳━━━━━━━━━━━━━━━━━━━━━━━━┳━━━━━━━━━━━━━━━┓\n",
              "┃<span style=\"font-weight: bold\"> Layer (type)                    </span>┃<span style=\"font-weight: bold\"> Output Shape           </span>┃<span style=\"font-weight: bold\">       Param # </span>┃\n",
              "┡━━━━━━━━━━━━━━━━━━━━━━━━━━━━━━━━━╇━━━━━━━━━━━━━━━━━━━━━━━━╇━━━━━━━━━━━━━━━┩\n",
              "│ embedding_2 (<span style=\"color: #0087ff; text-decoration-color: #0087ff\">Embedding</span>)         │ ?                      │   <span style=\"color: #00af00; text-decoration-color: #00af00\">0</span> (unbuilt) │\n",
              "├─────────────────────────────────┼────────────────────────┼───────────────┤\n",
              "│ conv1d_2 (<span style=\"color: #0087ff; text-decoration-color: #0087ff\">Conv1D</span>)               │ ?                      │   <span style=\"color: #00af00; text-decoration-color: #00af00\">0</span> (unbuilt) │\n",
              "├─────────────────────────────────┼────────────────────────┼───────────────┤\n",
              "│ max_pooling1d (<span style=\"color: #0087ff; text-decoration-color: #0087ff\">MaxPooling1D</span>)    │ ?                      │             <span style=\"color: #00af00; text-decoration-color: #00af00\">0</span> │\n",
              "├─────────────────────────────────┼────────────────────────┼───────────────┤\n",
              "│ lstm_2 (<span style=\"color: #0087ff; text-decoration-color: #0087ff\">LSTM</span>)                   │ ?                      │   <span style=\"color: #00af00; text-decoration-color: #00af00\">0</span> (unbuilt) │\n",
              "├─────────────────────────────────┼────────────────────────┼───────────────┤\n",
              "│ dropout_4 (<span style=\"color: #0087ff; text-decoration-color: #0087ff\">Dropout</span>)             │ ?                      │             <span style=\"color: #00af00; text-decoration-color: #00af00\">0</span> │\n",
              "├─────────────────────────────────┼────────────────────────┼───────────────┤\n",
              "│ dense_4 (<span style=\"color: #0087ff; text-decoration-color: #0087ff\">Dense</span>)                 │ ?                      │   <span style=\"color: #00af00; text-decoration-color: #00af00\">0</span> (unbuilt) │\n",
              "├─────────────────────────────────┼────────────────────────┼───────────────┤\n",
              "│ dropout_5 (<span style=\"color: #0087ff; text-decoration-color: #0087ff\">Dropout</span>)             │ ?                      │             <span style=\"color: #00af00; text-decoration-color: #00af00\">0</span> │\n",
              "├─────────────────────────────────┼────────────────────────┼───────────────┤\n",
              "│ dense_5 (<span style=\"color: #0087ff; text-decoration-color: #0087ff\">Dense</span>)                 │ ?                      │   <span style=\"color: #00af00; text-decoration-color: #00af00\">0</span> (unbuilt) │\n",
              "└─────────────────────────────────┴────────────────────────┴───────────────┘\n",
              "</pre>\n"
            ]
          },
          "metadata": {}
        },
        {
          "output_type": "display_data",
          "data": {
            "text/plain": [
              "\u001b[1m Total params: \u001b[0m\u001b[38;5;34m0\u001b[0m (0.00 B)\n"
            ],
            "text/html": [
              "<pre style=\"white-space:pre;overflow-x:auto;line-height:normal;font-family:Menlo,'DejaVu Sans Mono',consolas,'Courier New',monospace\"><span style=\"font-weight: bold\"> Total params: </span><span style=\"color: #00af00; text-decoration-color: #00af00\">0</span> (0.00 B)\n",
              "</pre>\n"
            ]
          },
          "metadata": {}
        },
        {
          "output_type": "display_data",
          "data": {
            "text/plain": [
              "\u001b[1m Trainable params: \u001b[0m\u001b[38;5;34m0\u001b[0m (0.00 B)\n"
            ],
            "text/html": [
              "<pre style=\"white-space:pre;overflow-x:auto;line-height:normal;font-family:Menlo,'DejaVu Sans Mono',consolas,'Courier New',monospace\"><span style=\"font-weight: bold\"> Trainable params: </span><span style=\"color: #00af00; text-decoration-color: #00af00\">0</span> (0.00 B)\n",
              "</pre>\n"
            ]
          },
          "metadata": {}
        },
        {
          "output_type": "display_data",
          "data": {
            "text/plain": [
              "\u001b[1m Non-trainable params: \u001b[0m\u001b[38;5;34m0\u001b[0m (0.00 B)\n"
            ],
            "text/html": [
              "<pre style=\"white-space:pre;overflow-x:auto;line-height:normal;font-family:Menlo,'DejaVu Sans Mono',consolas,'Courier New',monospace\"><span style=\"font-weight: bold\"> Non-trainable params: </span><span style=\"color: #00af00; text-decoration-color: #00af00\">0</span> (0.00 B)\n",
              "</pre>\n"
            ]
          },
          "metadata": {}
        },
        {
          "output_type": "stream",
          "name": "stdout",
          "text": [
            "None\n"
          ]
        }
      ]
    },
    {
      "cell_type": "code",
      "source": [
        "# Training model 3\n",
        "print(f\"\\nMemulai training Model 3 dengan batch size {batch_size}...\")\n",
        "history3 = model3.fit(\n",
        "    X_train_pad, y_train,\n",
        "    epochs=10,\n",
        "    batch_size=batch_size,\n",
        "    validation_split=0.1,\n",
        "    callbacks=callbacks,\n",
        "    verbose=1\n",
        ")"
      ],
      "metadata": {
        "colab": {
          "base_uri": "https://localhost:8080/"
        },
        "id": "QWKrPIyXA8ET",
        "outputId": "c078dcc9-e9e0-4697-ee4f-fee1cb442b85"
      },
      "execution_count": 57,
      "outputs": [
        {
          "output_type": "stream",
          "name": "stdout",
          "text": [
            "\n",
            "Memulai training Model 3 dengan batch size 64...\n",
            "Epoch 1/10\n",
            "\u001b[1m2900/2900\u001b[0m \u001b[32m━━━━━━━━━━━━━━━━━━━━\u001b[0m\u001b[37m\u001b[0m \u001b[1m394s\u001b[0m 134ms/step - accuracy: 0.8194 - loss: 0.5075 - val_accuracy: 0.8940 - val_loss: 0.3260 - learning_rate: 0.0010\n",
            "Epoch 2/10\n",
            "\u001b[1m2900/2900\u001b[0m \u001b[32m━━━━━━━━━━━━━━━━━━━━\u001b[0m\u001b[37m\u001b[0m \u001b[1m435s\u001b[0m 131ms/step - accuracy: 0.9029 - loss: 0.3052 - val_accuracy: 0.8956 - val_loss: 0.3200 - learning_rate: 0.0010\n",
            "Epoch 3/10\n",
            "\u001b[1m2900/2900\u001b[0m \u001b[32m━━━━━━━━━━━━━━━━━━━━\u001b[0m\u001b[37m\u001b[0m \u001b[1m381s\u001b[0m 131ms/step - accuracy: 0.9104 - loss: 0.2809 - val_accuracy: 0.8966 - val_loss: 0.3210 - learning_rate: 0.0010\n",
            "Epoch 4/10\n",
            "\u001b[1m2900/2900\u001b[0m \u001b[32m━━━━━━━━━━━━━━━━━━━━\u001b[0m\u001b[37m\u001b[0m \u001b[1m389s\u001b[0m 134ms/step - accuracy: 0.9155 - loss: 0.2595 - val_accuracy: 0.8953 - val_loss: 0.3301 - learning_rate: 0.0010\n",
            "Epoch 5/10\n",
            "\u001b[1m2900/2900\u001b[0m \u001b[32m━━━━━━━━━━━━━━━━━━━━\u001b[0m\u001b[37m\u001b[0m \u001b[1m444s\u001b[0m 134ms/step - accuracy: 0.9236 - loss: 0.2322 - val_accuracy: 0.8896 - val_loss: 0.3607 - learning_rate: 5.0000e-04\n",
            "Epoch 6/10\n",
            "\u001b[1m2900/2900\u001b[0m \u001b[32m━━━━━━━━━━━━━━━━━━━━\u001b[0m\u001b[37m\u001b[0m \u001b[1m379s\u001b[0m 131ms/step - accuracy: 0.9281 - loss: 0.2145 - val_accuracy: 0.8907 - val_loss: 0.3831 - learning_rate: 5.0000e-04\n"
          ]
        }
      ]
    },
    {
      "cell_type": "code",
      "source": [
        "# Evaluasi model 3\n",
        "print(\"\\nEvaluasi Model 3 pada test set...\")\n",
        "loss3, accuracy3 = model3.evaluate(X_test_pad, y_test, batch_size=batch_size)\n",
        "print(f\"Model 3 - Test Accuracy: {accuracy3*100:.2f}%\")"
      ],
      "metadata": {
        "colab": {
          "base_uri": "https://localhost:8080/"
        },
        "id": "BPHeT9omK9WG",
        "outputId": "4b91e568-190b-468f-f1ef-6466fa8ef2d7"
      },
      "execution_count": 60,
      "outputs": [
        {
          "output_type": "stream",
          "name": "stdout",
          "text": [
            "\n",
            "Evaluasi Model 3 pada test set...\n",
            "\u001b[1m806/806\u001b[0m \u001b[32m━━━━━━━━━━━━━━━━━━━━\u001b[0m\u001b[37m\u001b[0m \u001b[1m31s\u001b[0m 38ms/step - accuracy: 0.8987 - loss: 0.3145\n",
            "Model 3 - Test Accuracy: 89.92%\n"
          ]
        }
      ]
    },
    {
      "cell_type": "code",
      "source": [
        "# Prediksi dan evaluasi lanjutan\n",
        "y_pred3 = model3.predict(X_test_pad, batch_size=batch_size)\n",
        "y_pred_classes3 = np.argmax(y_pred3, axis=1)\n",
        "\n",
        "print(\"Classification Report - Model 3:\")\n",
        "cr3 = classification_report(y_test, y_pred_classes3, target_names=['negatif', 'netral', 'positif'])\n",
        "print(cr3)"
      ],
      "metadata": {
        "colab": {
          "base_uri": "https://localhost:8080/"
        },
        "id": "AioUTDjZLNYQ",
        "outputId": "3bb0bf19-4bb5-4764-d39b-8a713009bde7"
      },
      "execution_count": 61,
      "outputs": [
        {
          "output_type": "stream",
          "name": "stdout",
          "text": [
            "\u001b[1m806/806\u001b[0m \u001b[32m━━━━━━━━━━━━━━━━━━━━\u001b[0m\u001b[37m\u001b[0m \u001b[1m28s\u001b[0m 34ms/step\n",
            "Classification Report - Model 3:\n",
            "              precision    recall  f1-score   support\n",
            "\n",
            "     negatif       0.78      0.93      0.85     13954\n",
            "      netral       0.00      0.00      0.00      2064\n",
            "     positif       0.96      0.94      0.95     35529\n",
            "\n",
            "    accuracy                           0.90     51547\n",
            "   macro avg       0.58      0.62      0.60     51547\n",
            "weighted avg       0.87      0.90      0.88     51547\n",
            "\n"
          ]
        }
      ]
    },
    {
      "cell_type": "code",
      "source": [
        "# Plot training history\n",
        "plt.figure(figsize=(12, 5))\n",
        "plt.subplot(1, 2, 1)\n",
        "plt.plot(history3.history['accuracy'])\n",
        "plt.plot(history3.history['val_accuracy'])\n",
        "plt.title('Model 3: Accuracy')\n",
        "plt.ylabel('Accuracy')\n",
        "plt.xlabel('Epoch')\n",
        "plt.legend(['train', 'val'], loc='upper left')\n",
        "\n",
        "plt.subplot(1, 2, 2)\n",
        "plt.plot(history3.history['loss'])\n",
        "plt.plot(history3.history['val_loss'])\n",
        "plt.title('Model 3: Loss')\n",
        "plt.ylabel('Loss')\n",
        "plt.xlabel('Epoch')\n",
        "plt.legend(['train', 'val'], loc='upper left')\n",
        "plt.tight_layout()\n",
        "plt.show()"
      ],
      "metadata": {
        "colab": {
          "base_uri": "https://localhost:8080/",
          "height": 492
        },
        "id": "o_YMejv5LXCz",
        "outputId": "3587e98e-b90d-49ef-a24f-f48f454b6231"
      },
      "execution_count": 62,
      "outputs": [
        {
          "output_type": "display_data",
          "data": {
            "text/plain": [
              "<Figure size 1200x500 with 2 Axes>"
            ],
            "image/png": "[encoded data removed]"
          },
          "metadata": {}
        }
      ]
    },
    {
      "cell_type": "code",
      "source": [
        "# ----------------------------------\n",
        "# Perbandingan Ketiga Model\n",
        "# ----------------------------------\n",
        "print(\"\\n--- Perbandingan Akurasi Ketiga Model ---\")\n",
        "comparison = pd.DataFrame({\n",
        "    'Model': ['BiLSTM', 'CNN', 'CNN-LSTM'],\n",
        "    'Akurasi Training': [\n",
        "        history1.history['accuracy'][-1]*100,\n",
        "        history2.history['accuracy'][-1]*100,\n",
        "        history3.history['accuracy'][-1]*100\n",
        "    ],\n",
        "    'Akurasi Testing': [\n",
        "        accuracy1*100,\n",
        "        accuracy2*100,\n",
        "        accuracy3*100\n",
        "    ]\n",
        "})\n",
        "print(comparison)"
      ],
      "metadata": {
        "colab": {
          "base_uri": "https://localhost:8080/"
        },
        "id": "EVQWxDF-LbQK",
        "outputId": "60d1512d-e7d1-4e75-d535-4ee2090b39a4"
      },
      "execution_count": 63,
      "outputs": [
        {
          "output_type": "stream",
          "name": "stdout",
          "text": [
            "\n",
            "--- Perbandingan Akurasi Ketiga Model ---\n",
            "      Model  Akurasi Training  Akurasi Testing\n",
            "0    BiLSTM         93.067658        90.028518\n",
            "1       CNN         92.958802        90.036279\n",
            "2  CNN-LSTM         92.814916        89.915997\n"
          ]
        }
      ]
    },
    {
      "cell_type": "code",
      "source": [
        "# Plot perbandingan\n",
        "plt.figure(figsize=(10, 6))\n",
        "bar_width = 0.35\n",
        "index = np.arange(3)\n",
        "\n",
        "plt.bar(index, comparison['Akurasi Training'], bar_width, label='Training')\n",
        "plt.bar(index + bar_width, comparison['Akurasi Testing'], bar_width, label='Testing')\n",
        "\n",
        "plt.xlabel('Model')\n",
        "plt.ylabel('Akurasi (%)')\n",
        "plt.title('Perbandingan Akurasi Model')\n",
        "plt.xticks(index + bar_width/2, comparison['Model'])\n",
        "plt.legend()\n",
        "plt.tight_layout()\n",
        "plt.show()"
      ],
      "metadata": {
        "colab": {
          "base_uri": "https://localhost:8080/",
          "height": 607
        },
        "id": "M0P2T869LhLT",
        "outputId": "1826e433-5378-4ffc-a2ed-95017c16b16d"
      },
      "execution_count": 64,
      "outputs": [
        {
          "output_type": "display_data",
          "data": {
            "text/plain": [
              "<Figure size 1000x600 with 1 Axes>"
            ],
            "image/png": "[encoded data removed]"
          },
          "metadata": {}
        }
      ]
    },
    {
      "cell_type": "code",
      "source": [
        "# ----------------------------------\n",
        "# Fungsi Inferensi untuk Model Terbaik\n",
        "# ----------------------------------\n",
        "def predict_sentiment(text, model, tokenizer):\n",
        "    # Praproses teks\n",
        "    processed_text = preprocess_text(text)\n",
        "\n",
        "    # Tokenisasi dan padding\n",
        "    sequence = tokenizer.texts_to_sequences([processed_text])\n",
        "    padded = pad_sequences(sequence, maxlen=max_length, padding='post')\n",
        "\n",
        "    # Prediksi\n",
        "    prediction = model.predict(padded)[0]\n",
        "    predicted_class = np.argmax(prediction)\n",
        "\n",
        "    # Mengkonversi kembali ke label sentimen\n",
        "    sentiments = {0: 'negatif', 1: 'netral', 2: 'positif'}\n",
        "    sentiment = sentiments[predicted_class]\n",
        "\n",
        "    confidence = prediction[predicted_class] * 100\n",
        "\n",
        "    return {\n",
        "        'text': text,\n",
        "        'processed': processed_text,\n",
        "        'sentiment': sentiment,\n",
        "        'confidence': confidence,\n",
        "        'probabilities': {\n",
        "            'negatif': prediction[0] * 100,\n",
        "            'netral': prediction[1] * 100,\n",
        "            'positif': prediction[2] * 100\n",
        "        }\n",
        "    }\n"
      ],
      "metadata": {
        "id": "MXcnqnQtLuFN"
      },
      "execution_count": 65,
      "outputs": []
    },
    {
      "cell_type": "code",
      "source": [
        "# Cari model dengan akurasi terbaik\n",
        "best_accuracy = max(accuracy1, accuracy2, accuracy3)\n",
        "if best_accuracy == accuracy1:\n",
        "    best_model = model1\n",
        "    best_tokenizer = tokenizer\n",
        "    model_name = \"BiLSTM\"\n",
        "elif best_accuracy == accuracy2:\n",
        "    best_model = model2\n",
        "    best_tokenizer = tokenizer\n",
        "    model_name = \"CNN\"\n",
        "else:\n",
        "    best_model = model3\n",
        "    best_tokenizer = tokenizer\n",
        "    model_name = \"CNN-LSTM\"\n",
        "\n",
        "print(f\"\\nModel terbaik adalah {model_name} dengan akurasi {best_accuracy*100:.2f}%\")"
      ],
      "metadata": {
        "colab": {
          "base_uri": "https://localhost:8080/"
        },
        "id": "UQ9Bw8luLxzy",
        "outputId": "7af3cadc-636f-4e85-d758-eb4b675274d0"
      },
      "execution_count": 66,
      "outputs": [
        {
          "output_type": "stream",
          "name": "stdout",
          "text": [
            "\n",
            "Model terbaik adalah CNN dengan akurasi 90.04%\n"
          ]
        }
      ]
    },
    {
      "cell_type": "code",
      "source": [
        "# ----------------------------------\n",
        "# Uji inferensi dengan beberapa contoh\n",
        "# ----------------------------------\n",
        "test_examples = [\n",
        "    \"Aplikasi bagus, sangat membantu aktivitas sehari-hari\",\n",
        "    \"Aplikasi ini seringkali error dan membuat saya kecewa\",\n",
        "    \"Biasa saja, tidak ada yang spesial\",\n",
        "    \"Tolong diperbaiki lagi fiturnya, masih banyak bug\",\n",
        "    \"Layanan pengirimannya cepat sekali, terimakasih gojek!\"\n",
        "]\n",
        "\n",
        "print(\"\\n--- Hasil Inferensi dengan Model Terbaik ---\")\n",
        "for text in test_examples:\n",
        "    result = predict_sentiment(text, best_model, best_tokenizer)\n",
        "    print(f\"Teks: {result['text']}\")\n",
        "    print(f\"Sentimen: {result['sentiment']} (confidence: {result['confidence']:.2f}%)\")\n",
        "    print(f\"Probabilitas: Negatif={result['probabilities']['negatif']:.2f}%, Netral={result['probabilities']['netral']:.2f}%, Positif={result['probabilities']['positif']:.2f}%\")\n",
        "    print(\"-\" * 50)"
      ],
      "metadata": {
        "colab": {
          "base_uri": "https://localhost:8080/"
        },
        "id": "KkUeB4YWL4RD",
        "outputId": "c1db0570-9575-4377-c520-53519d651064"
      },
      "execution_count": 67,
      "outputs": [
        {
          "output_type": "stream",
          "name": "stdout",
          "text": [
            "\n",
            "--- Hasil Inferensi dengan Model Terbaik ---\n",
            "\u001b[1m1/1\u001b[0m \u001b[32m━━━━━━━━━━━━━━━━━━━━\u001b[0m\u001b[37m\u001b[0m \u001b[1m0s\u001b[0m 61ms/step\n",
            "Teks: Aplikasi bagus, sangat membantu aktivitas sehari-hari\n",
            "Sentimen: positif (confidence: 99.61%)\n",
            "Probabilitas: Negatif=0.15%, Netral=0.24%, Positif=99.61%\n",
            "--------------------------------------------------\n",
            "\u001b[1m1/1\u001b[0m \u001b[32m━━━━━━━━━━━━━━━━━━━━\u001b[0m\u001b[37m\u001b[0m \u001b[1m0s\u001b[0m 199ms/step\n",
            "Teks: Aplikasi ini seringkali error dan membuat saya kecewa\n",
            "Sentimen: negatif (confidence: 54.15%)\n",
            "Probabilitas: Negatif=54.15%, Netral=9.28%, Positif=36.57%\n",
            "--------------------------------------------------\n",
            "\u001b[1m1/1\u001b[0m \u001b[32m━━━━━━━━━━━━━━━━━━━━\u001b[0m\u001b[37m\u001b[0m \u001b[1m0s\u001b[0m 72ms/step\n",
            "Teks: Biasa saja, tidak ada yang spesial\n",
            "Sentimen: negatif (confidence: 80.12%)\n",
            "Probabilitas: Negatif=80.12%, Netral=8.54%, Positif=11.34%\n",
            "--------------------------------------------------\n",
            "\u001b[1m1/1\u001b[0m \u001b[32m━━━━━━━━━━━━━━━━━━━━\u001b[0m\u001b[37m\u001b[0m \u001b[1m0s\u001b[0m 36ms/step\n",
            "Teks: Tolong diperbaiki lagi fiturnya, masih banyak bug\n",
            "Sentimen: negatif (confidence: 45.79%)\n",
            "Probabilitas: Negatif=45.79%, Netral=18.43%, Positif=35.78%\n",
            "--------------------------------------------------\n",
            "\u001b[1m1/1\u001b[0m \u001b[32m━━━━━━━━━━━━━━━━━━━━\u001b[0m\u001b[37m\u001b[0m \u001b[1m0s\u001b[0m 38ms/step\n",
            "Teks: Layanan pengirimannya cepat sekali, terimakasih gojek!\n",
            "Sentimen: positif (confidence: 99.21%)\n",
            "Probabilitas: Negatif=0.39%, Netral=0.40%, Positif=99.21%\n",
            "--------------------------------------------------\n"
          ]
        }
      ]
    },
    {
      "cell_type": "code",
      "source": [
        "# Inferensi untuk beberapa sampel dari dataset asli\n",
        "random_samples = df.sample(5)\n",
        "print(\"\\n--- Inferensi Sampel dari Dataset Asli ---\")\n",
        "for idx, row in random_samples.iterrows():\n",
        "    original_text = row['content']\n",
        "    original_sentiment = row['sentiment']\n",
        "    result = predict_sentiment(original_text, best_model, best_tokenizer)\n",
        "\n",
        "    print(f\"ID Review: {row['reviewId'] if 'reviewId' in row else idx}\")\n",
        "    print(f\"Teks Asli: {original_text}\")\n",
        "    print(f\"Skor: {row['score']}\")\n",
        "    print(f\"Sentimen Asli: {original_sentiment}\")\n",
        "    print(f\"Sentimen Prediksi: {result['sentiment']} (confidence: {result['confidence']:.2f}%)\")\n",
        "    print(\"-\" * 50)\n"
      ],
      "metadata": {
        "colab": {
          "base_uri": "https://localhost:8080/"
        },
        "id": "UQRCTXkjL7cr",
        "outputId": "832ba483-64cc-4fe6-ef61-177c25ef2d5d"
      },
      "execution_count": 68,
      "outputs": [
        {
          "output_type": "stream",
          "name": "stdout",
          "text": [
            "\n",
            "--- Inferensi Sampel dari Dataset Asli ---\n",
            "\u001b[1m1/1\u001b[0m \u001b[32m━━━━━━━━━━━━━━━━━━━━\u001b[0m\u001b[37m\u001b[0m \u001b[1m0s\u001b[0m 36ms/step\n",
            "ID Review: 77db4816-f839-4cda-99db-9089ee7af11d\n",
            "Teks Asli: Orderan driver untuk gofood menurun dikarenakan tidak bisa menggunakan 2 voucher, sangat disayangkan\n",
            "Skor: 1.0\n",
            "Sentimen Asli: negatif\n",
            "Sentimen Prediksi: negatif (confidence: 92.62%)\n",
            "--------------------------------------------------\n",
            "\u001b[1m1/1\u001b[0m \u001b[32m━━━━━━━━━━━━━━━━━━━━\u001b[0m\u001b[37m\u001b[0m \u001b[1m0s\u001b[0m 37ms/step\n",
            "ID Review: 9471750a-77a9-414c-be09-9ea0924fdeed\n",
            "Teks Asli: Pemesanan gofood ga ngotak 1jam semua\n",
            "Skor: 1.0\n",
            "Sentimen Asli: negatif\n",
            "Sentimen Prediksi: negatif (confidence: 95.86%)\n",
            "--------------------------------------------------\n",
            "\u001b[1m1/1\u001b[0m \u001b[32m━━━━━━━━━━━━━━━━━━━━\u001b[0m\u001b[37m\u001b[0m \u001b[1m0s\u001b[0m 46ms/step\n",
            "ID Review: 2a5ce005-645b-4b64-8557-2302e5c1f359\n",
            "Teks Asli: Mantapppp\n",
            "Skor: 5.0\n",
            "Sentimen Asli: positif\n",
            "Sentimen Prediksi: positif (confidence: 99.85%)\n",
            "--------------------------------------------------\n",
            "\u001b[1m1/1\u001b[0m \u001b[32m━━━━━━━━━━━━━━━━━━━━\u001b[0m\u001b[37m\u001b[0m \u001b[1m0s\u001b[0m 37ms/step\n",
            "ID Review: eef164d4-1889-467e-bc18-c09ed76b9c33\n",
            "Teks Asli: Aplikasi yg sangat membantu saya yg butuh perjalanan yg sangat nyaman dan aman...semoga berkah... Amin\n",
            "Skor: 5.0\n",
            "Sentimen Asli: positif\n",
            "Sentimen Prediksi: positif (confidence: 98.64%)\n",
            "--------------------------------------------------\n",
            "\u001b[1m1/1\u001b[0m \u001b[32m━━━━━━━━━━━━━━━━━━━━\u001b[0m\u001b[37m\u001b[0m \u001b[1m0s\u001b[0m 46ms/step\n",
            "ID Review: 60d49c87-f55b-4c96-9c60-0013501b311d\n",
            "Teks Asli: Pengemudi ramah dan kooperatif Tarif sesuai kantong terimakasih\n",
            "Skor: 5.0\n",
            "Sentimen Asli: positif\n",
            "Sentimen Prediksi: positif (confidence: 99.26%)\n",
            "--------------------------------------------------\n"
          ]
        }
      ]
    },
    {
      "cell_type": "code",
      "source": [
        "# Simpan model terbaik dan tokenizer\n",
        "print(f\"\\nMenyimpan model terbaik ({model_name})...\")\n",
        "best_model.save(f'best_sentiment_model_{model_name}.h5')"
      ],
      "metadata": {
        "colab": {
          "base_uri": "https://localhost:8080/"
        },
        "id": "Snk-_Y-JMBBN",
        "outputId": "17746302-9992-4a8f-f7d9-8c53cf58623e"
      },
      "execution_count": 69,
      "outputs": [
        {
          "output_type": "stream",
          "name": "stderr",
          "text": [
            "WARNING:absl:You are saving your model as an HDF5 file via `model.save()` or `keras.saving.save_model(model)`. This file format is considered legacy. We recommend using instead the native Keras format, e.g. `model.save('my_model.keras')` or `keras.saving.save_model(model, 'my_model.keras')`. \n"
          ]
        },
        {
          "output_type": "stream",
          "name": "stdout",
          "text": [
            "\n",
            "Menyimpan model terbaik (CNN)...\n"
          ]
        }
      ]
    },
    {
      "cell_type": "code",
      "source": [
        "# Simpan tokenizer untuk penggunaan di masa depan\n",
        "import pickle\n",
        "with open('tokenizer.pickle', 'wb') as handle:\n",
        "    pickle.dump(tokenizer, handle, protocol=pickle.HIGHEST_PROTOCOL)\n",
        "\n",
        "print(f\"Model terbaik telah disimpan sebagai 'best_sentiment_model_{model_name}.h5'\")\n",
        "print(f\"Tokenizer telah disimpan sebagai 'tokenizer.pickle'\")"
      ],
      "metadata": {
        "colab": {
          "base_uri": "https://localhost:8080/"
        },
        "id": "XFZAYSIHMJZG",
        "outputId": "22c4c6ab-0912-4bd4-a788-7f53a0ead5cb"
      },
      "execution_count": 70,
      "outputs": [
        {
          "output_type": "stream",
          "name": "stdout",
          "text": [
            "Model terbaik telah disimpan sebagai 'best_sentiment_model_CNN.h5'\n",
            "Tokenizer telah disimpan sebagai 'tokenizer.pickle'\n"
          ]
        }
      ]
    },
    {
      "cell_type": "code",
      "source": [
        "# Visualisasi confusion matrix untuk model terbaik\n",
        "if best_accuracy == accuracy1:\n",
        "    y_pred_classes = y_pred_classes1\n",
        "elif best_accuracy == accuracy2:\n",
        "    y_pred_classes = y_pred_classes2\n",
        "else:\n",
        "    y_pred_classes = y_pred_classes3\n",
        "\n",
        "cm = confusion_matrix(y_test, y_pred_classes)\n",
        "plt.figure(figsize=(8, 6))\n",
        "sns.heatmap(cm, annot=True, fmt='d', cmap='Blues',\n",
        "            xticklabels=['Negatif', 'Netral', 'Positif'],\n",
        "            yticklabels=['Negatif', 'Netral', 'Positif'])\n",
        "plt.xlabel('Prediksi')\n",
        "plt.ylabel('Aktual')\n",
        "plt.title(f'Confusion Matrix - Model {model_name}')\n",
        "plt.tight_layout()\n",
        "plt.show()"
      ],
      "metadata": {
        "colab": {
          "base_uri": "https://localhost:8080/",
          "height": 607
        },
        "id": "PQZm6l75MLJV",
        "outputId": "4d85b1d9-b84e-4f4d-a060-df5e175b9fc6"
      },
      "execution_count": 71,
      "outputs": [
        {
          "output_type": "display_data",
          "data": {
            "text/plain": [
              "<Figure size 800x600 with 2 Axes>"
            ],
            "image/png": "[encoded data removed]"
          },
          "metadata": {}
        }
      ]
    },
    {
      "cell_type": "code",
      "source": [
        "print(\"\\nAnalisis Sentimen selesai!\")"
      ],
      "metadata": {
        "colab": {
          "base_uri": "https://localhost:8080/"
        },
        "id": "Bw8EUVuNMTfm",
        "outputId": "aff9f2b3-1e5c-4673-f8a9-93606adb70c8"
      },
      "execution_count": 72,
      "outputs": [
        {
          "output_type": "stream",
          "name": "stdout",
          "text": [
            "\n",
            "Analisis Sentimen selesai!\n"
          ]
        }
      ]
    }
  ]
}